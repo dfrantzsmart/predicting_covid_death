{
 "cells": [
  {
   "cell_type": "markdown",
   "metadata": {},
   "source": [
    "# Modeling"
   ]
  },
  {
   "cell_type": "code",
   "execution_count": 84,
   "metadata": {},
   "outputs": [],
   "source": [
    "import pandas as pd\n",
    "import numpy as np\n",
    "\n",
    "from sklearn.neighbors import KNeighborsClassifier\n",
    "from sklearn.linear_model import LogisticRegression\n",
    "from sklearn.model_selection import train_test_split, StratifiedKFold, KFold, cross_validate, cross_val_score\n",
    "from sklearn.metrics import precision_score, recall_score, accuracy_score, roc_auc_score, roc_curve,\\\n",
    "precision_recall_curve, f1_score, fbeta_score, confusion_matrix, classification_report, make_scorer\n",
    "from sklearn.naive_bayes import BernoulliNB\n",
    "from sklearn.tree import DecisionTreeClassifier\n",
    "from sklearn.ensemble import RandomForestClassifier\n",
    "from sklearn.svm import SVC\n",
    "from xgboost import XGBClassifier, plot_importance\n",
    "from sklearn.preprocessing import StandardScaler\n",
    "from imblearn.over_sampling import RandomOverSampler, SMOTE, ADASYN\n",
    "from imblearn.under_sampling import RandomUnderSampler\n",
    "from imblearn.over_sampling import SMOTE\n",
    "from collections import Counter, OrderedDict\n",
    "from sklearn.model_selection import RandomizedSearchCV\n",
    "from scipy.stats import randint\n",
    "import time\n",
    "import pickle\n",
    "\n",
    "import matplotlib.pyplot as plt\n",
    "import seaborn as sns\n",
    "%config InlineBackend.figure_formats = ['svg']\n",
    "%matplotlib inline\n",
    "plt.style.use('ggplot')\n",
    "sns.set_style(\"white\")"
   ]
  },
  {
   "cell_type": "code",
   "execution_count": 85,
   "metadata": {},
   "outputs": [],
   "source": [
    "from IPython.core.interactiveshell import InteractiveShell\n",
    "InteractiveShell.ast_node_interactivity = \"all\""
   ]
  },
  {
   "cell_type": "code",
   "execution_count": 83,
   "metadata": {},
   "outputs": [],
   "source": [
    "# For auto-reloading updated modules\n",
    "%load_ext autoreload\n",
    "%autoreload 2"
   ]
  },
  {
   "cell_type": "code",
   "execution_count": 87,
   "metadata": {},
   "outputs": [],
   "source": [
    "# Import modules\n",
    "from data_cleaning import convert\n",
    "from model_eval import *"
   ]
  },
  {
   "cell_type": "code",
   "execution_count": 66,
   "metadata": {},
   "outputs": [
    {
     "data": {
      "text/html": [
       "<div>\n",
       "<style scoped>\n",
       "    .dataframe tbody tr th:only-of-type {\n",
       "        vertical-align: middle;\n",
       "    }\n",
       "\n",
       "    .dataframe tbody tr th {\n",
       "        vertical-align: top;\n",
       "    }\n",
       "\n",
       "    .dataframe thead th {\n",
       "        text-align: right;\n",
       "    }\n",
       "</style>\n",
       "<table border=\"1\" class=\"dataframe\">\n",
       "  <thead>\n",
       "    <tr style=\"text-align: right;\">\n",
       "      <th></th>\n",
       "      <th>death</th>\n",
       "      <th>date</th>\n",
       "      <th>cdc_report_dt</th>\n",
       "      <th>onset_dt</th>\n",
       "      <th>age_group</th>\n",
       "      <th>hosp</th>\n",
       "      <th>icu</th>\n",
       "      <th>med_cond</th>\n",
       "      <th>American Indian/Alaska Native, Non-Hispanic</th>\n",
       "      <th>Asian, Non-Hispanic</th>\n",
       "      <th>...</th>\n",
       "      <th>vent_incr</th>\n",
       "      <th>positive</th>\n",
       "      <th>pos_incr</th>\n",
       "      <th>pos_rate</th>\n",
       "      <th>pos_incr_rate</th>\n",
       "      <th>negative</th>\n",
       "      <th>neg_incr</th>\n",
       "      <th>recovered</th>\n",
       "      <th>tot_test_results</th>\n",
       "      <th>tot_test_results_incr</th>\n",
       "    </tr>\n",
       "  </thead>\n",
       "  <tbody>\n",
       "    <tr>\n",
       "      <th>0</th>\n",
       "      <td>0</td>\n",
       "      <td>2020-04-01</td>\n",
       "      <td>2020-03-27</td>\n",
       "      <td>2020-03-27</td>\n",
       "      <td>3.0</td>\n",
       "      <td>0.0</td>\n",
       "      <td>NaN</td>\n",
       "      <td>NaN</td>\n",
       "      <td>0</td>\n",
       "      <td>0</td>\n",
       "      <td>...</td>\n",
       "      <td>NaN</td>\n",
       "      <td>224086.0</td>\n",
       "      <td>25791.0</td>\n",
       "      <td>0.180594</td>\n",
       "      <td>0.232918</td>\n",
       "      <td>984489.0</td>\n",
       "      <td>82981.0</td>\n",
       "      <td>7084.0</td>\n",
       "      <td>1240829.0</td>\n",
       "      <td>110730.0</td>\n",
       "    </tr>\n",
       "    <tr>\n",
       "      <th>1</th>\n",
       "      <td>0</td>\n",
       "      <td>2020-04-01</td>\n",
       "      <td>2020-03-19</td>\n",
       "      <td>2020-03-19</td>\n",
       "      <td>3.0</td>\n",
       "      <td>NaN</td>\n",
       "      <td>NaN</td>\n",
       "      <td>NaN</td>\n",
       "      <td>0</td>\n",
       "      <td>0</td>\n",
       "      <td>...</td>\n",
       "      <td>NaN</td>\n",
       "      <td>224086.0</td>\n",
       "      <td>25791.0</td>\n",
       "      <td>0.180594</td>\n",
       "      <td>0.232918</td>\n",
       "      <td>984489.0</td>\n",
       "      <td>82981.0</td>\n",
       "      <td>7084.0</td>\n",
       "      <td>1240829.0</td>\n",
       "      <td>110730.0</td>\n",
       "    </tr>\n",
       "    <tr>\n",
       "      <th>2</th>\n",
       "      <td>0</td>\n",
       "      <td>2020-04-01</td>\n",
       "      <td>2020-03-30</td>\n",
       "      <td>2020-03-30</td>\n",
       "      <td>3.0</td>\n",
       "      <td>0.0</td>\n",
       "      <td>NaN</td>\n",
       "      <td>NaN</td>\n",
       "      <td>0</td>\n",
       "      <td>0</td>\n",
       "      <td>...</td>\n",
       "      <td>NaN</td>\n",
       "      <td>224086.0</td>\n",
       "      <td>25791.0</td>\n",
       "      <td>0.180594</td>\n",
       "      <td>0.232918</td>\n",
       "      <td>984489.0</td>\n",
       "      <td>82981.0</td>\n",
       "      <td>7084.0</td>\n",
       "      <td>1240829.0</td>\n",
       "      <td>110730.0</td>\n",
       "    </tr>\n",
       "    <tr>\n",
       "      <th>3</th>\n",
       "      <td>0</td>\n",
       "      <td>2020-04-01</td>\n",
       "      <td>2020-04-01</td>\n",
       "      <td>2020-04-01</td>\n",
       "      <td>3.0</td>\n",
       "      <td>0.0</td>\n",
       "      <td>NaN</td>\n",
       "      <td>NaN</td>\n",
       "      <td>0</td>\n",
       "      <td>0</td>\n",
       "      <td>...</td>\n",
       "      <td>NaN</td>\n",
       "      <td>224086.0</td>\n",
       "      <td>25791.0</td>\n",
       "      <td>0.180594</td>\n",
       "      <td>0.232918</td>\n",
       "      <td>984489.0</td>\n",
       "      <td>82981.0</td>\n",
       "      <td>7084.0</td>\n",
       "      <td>1240829.0</td>\n",
       "      <td>110730.0</td>\n",
       "    </tr>\n",
       "    <tr>\n",
       "      <th>4</th>\n",
       "      <td>0</td>\n",
       "      <td>2020-04-01</td>\n",
       "      <td>2020-04-14</td>\n",
       "      <td>2020-03-31</td>\n",
       "      <td>3.0</td>\n",
       "      <td>0.0</td>\n",
       "      <td>NaN</td>\n",
       "      <td>0.0</td>\n",
       "      <td>0</td>\n",
       "      <td>0</td>\n",
       "      <td>...</td>\n",
       "      <td>NaN</td>\n",
       "      <td>224086.0</td>\n",
       "      <td>25791.0</td>\n",
       "      <td>0.180594</td>\n",
       "      <td>0.232918</td>\n",
       "      <td>984489.0</td>\n",
       "      <td>82981.0</td>\n",
       "      <td>7084.0</td>\n",
       "      <td>1240829.0</td>\n",
       "      <td>110730.0</td>\n",
       "    </tr>\n",
       "  </tbody>\n",
       "</table>\n",
       "<p>5 rows × 45 columns</p>\n",
       "</div>"
      ],
      "text/plain": [
       "   death       date cdc_report_dt   onset_dt  age_group  hosp  icu  med_cond  \\\n",
       "0      0 2020-04-01    2020-03-27 2020-03-27        3.0   0.0  NaN       NaN   \n",
       "1      0 2020-04-01    2020-03-19 2020-03-19        3.0   NaN  NaN       NaN   \n",
       "2      0 2020-04-01    2020-03-30 2020-03-30        3.0   0.0  NaN       NaN   \n",
       "3      0 2020-04-01    2020-04-01 2020-04-01        3.0   0.0  NaN       NaN   \n",
       "4      0 2020-04-01    2020-04-14 2020-03-31        3.0   0.0  NaN       0.0   \n",
       "\n",
       "   American Indian/Alaska Native, Non-Hispanic  Asian, Non-Hispanic  ...  \\\n",
       "0                                            0                    0  ...   \n",
       "1                                            0                    0  ...   \n",
       "2                                            0                    0  ...   \n",
       "3                                            0                    0  ...   \n",
       "4                                            0                    0  ...   \n",
       "\n",
       "   vent_incr  positive  pos_incr  pos_rate  pos_incr_rate  negative  neg_incr  \\\n",
       "0        NaN  224086.0   25791.0  0.180594       0.232918  984489.0   82981.0   \n",
       "1        NaN  224086.0   25791.0  0.180594       0.232918  984489.0   82981.0   \n",
       "2        NaN  224086.0   25791.0  0.180594       0.232918  984489.0   82981.0   \n",
       "3        NaN  224086.0   25791.0  0.180594       0.232918  984489.0   82981.0   \n",
       "4        NaN  224086.0   25791.0  0.180594       0.232918  984489.0   82981.0   \n",
       "\n",
       "   recovered  tot_test_results  tot_test_results_incr  \n",
       "0     7084.0         1240829.0               110730.0  \n",
       "1     7084.0         1240829.0               110730.0  \n",
       "2     7084.0         1240829.0               110730.0  \n",
       "3     7084.0         1240829.0               110730.0  \n",
       "4     7084.0         1240829.0               110730.0  \n",
       "\n",
       "[5 rows x 45 columns]"
      ]
     },
     "execution_count": 66,
     "metadata": {},
     "output_type": "execute_result"
    },
    {
     "data": {
      "text/plain": [
       "(671435, 45)"
      ]
     },
     "execution_count": 66,
     "metadata": {},
     "output_type": "execute_result"
    }
   ],
   "source": [
    "# Load data\n",
    "import pickle\n",
    "\n",
    "infile = open('merged_df2.pkl', 'rb')\n",
    "df = pickle.load(infile)\n",
    "infile.close()\n",
    "\n",
    "df.head()\n",
    "df.shape"
   ]
  },
  {
   "cell_type": "code",
   "execution_count": 67,
   "metadata": {},
   "outputs": [],
   "source": [
    "# Sample of df for imputing & testing models\n",
    "df1 = df.sample(50000)"
   ]
  },
  {
   "cell_type": "code",
   "execution_count": 68,
   "metadata": {},
   "outputs": [
    {
     "data": {
      "text/plain": [
       "0    46717\n",
       "1     3283\n",
       "Name: death, dtype: int64"
      ]
     },
     "execution_count": 68,
     "metadata": {},
     "output_type": "execute_result"
    }
   ],
   "source": [
    "df1['death'].value_counts()"
   ]
  },
  {
   "cell_type": "markdown",
   "metadata": {},
   "source": [
    "### Choosing Features\n",
    "\n",
    "We've done some extensive feature analysis. From looking at correlations and this analysis, I will start with these features:"
   ]
  },
  {
   "cell_type": "code",
   "execution_count": 70,
   "metadata": {},
   "outputs": [],
   "source": [
    "feat = ['hosp', 'age_group', 'med_cond', 'icu', 'pos_rate', 'pos_incr_rate', 'calc_pct_occ', 'month', 'Male']\n",
    "\n",
    "df2 = df1[['death', 'hosp', 'age_group', 'icu', 'med_cond', 'pos_rate', 'pos_incr_rate', 'calc_pct_occ', 'month', 'Male']]"
   ]
  },
  {
   "cell_type": "code",
   "execution_count": 89,
   "metadata": {},
   "outputs": [
    {
     "data": {
      "text/plain": [
       "death                0\n",
       "hosp             12593\n",
       "age_group           12\n",
       "icu              30444\n",
       "med_cond         17705\n",
       "pos_rate             0\n",
       "pos_incr_rate        0\n",
       "calc_pct_occ         0\n",
       "month                0\n",
       "Male                 0\n",
       "dtype: int64"
      ]
     },
     "execution_count": 89,
     "metadata": {},
     "output_type": "execute_result"
    }
   ],
   "source": [
    "# Look at null values in this subset\n",
    "df2.isna().sum()"
   ]
  },
  {
   "cell_type": "code",
   "execution_count": 71,
   "metadata": {},
   "outputs": [
    {
     "data": {
      "text/plain": [
       "death            0\n",
       "hosp             0\n",
       "age_group        0\n",
       "icu              0\n",
       "med_cond         0\n",
       "pos_rate         0\n",
       "pos_incr_rate    0\n",
       "calc_pct_occ     0\n",
       "month            0\n",
       "Male             0\n",
       "dtype: int64"
      ]
     },
     "execution_count": 71,
     "metadata": {},
     "output_type": "execute_result"
    }
   ],
   "source": [
    "# Impute null values with a constant, 0.5\n",
    "df2_imputed = df2.fillna(0.5)\n",
    "df2_imputed.isna().sum()"
   ]
  },
  {
   "cell_type": "code",
   "execution_count": 72,
   "metadata": {},
   "outputs": [
    {
     "data": {
      "text/plain": [
       "death            0\n",
       "hosp             0\n",
       "age_group        0\n",
       "icu              0\n",
       "med_cond         0\n",
       "pos_rate         0\n",
       "pos_incr_rate    0\n",
       "calc_pct_occ     0\n",
       "month            0\n",
       "Male             0\n",
       "dtype: int64"
      ]
     },
     "execution_count": 72,
     "metadata": {},
     "output_type": "execute_result"
    }
   ],
   "source": [
    "# Impute null values with KNNImputer\n",
    "from sklearn.impute import KNNImputer\n",
    "\n",
    "imputer = KNNImputer(n_neighbors=2)\n",
    "filled = imputer.fit_transform(df2)\n",
    "df_filled = pd.DataFrame(filled, columns=df2.columns)\n",
    "df_filled.isna().sum()"
   ]
  },
  {
   "cell_type": "markdown",
   "metadata": {},
   "source": [
    "*Partition data*\n",
    "\n",
    "I will reserve a portion of my data as a hold-out set here and not touch it until I am done with all of my modeling."
   ]
  },
  {
   "cell_type": "code",
   "execution_count": 73,
   "metadata": {},
   "outputs": [],
   "source": [
    "X_knni, y_knni = df_filled.iloc[:,1:], df_filled.iloc[:,0]"
   ]
  },
  {
   "cell_type": "code",
   "execution_count": 74,
   "metadata": {},
   "outputs": [],
   "source": [
    "X_ci, y_ci = df2_imputed.iloc[:,1:], df2_imputed.iloc[:,0]"
   ]
  },
  {
   "cell_type": "markdown",
   "metadata": {},
   "source": [
    "## Determining which models to use"
   ]
  },
  {
   "cell_type": "markdown",
   "metadata": {},
   "source": [
    "I will try several different models for a baseline using the features that I selected through my earlier feature analysis. Since my classes are imbalanced, I will randomly oversample from the minority class before I run the models. I will use the default features for the models for now."
   ]
  },
  {
   "cell_type": "markdown",
   "metadata": {},
   "source": [
    "## Trying different preliminary models"
   ]
  },
  {
   "cell_type": "code",
   "execution_count": 15,
   "metadata": {},
   "outputs": [],
   "source": [
    "models = {'Logistic Regression': LogisticRegression(solver='saga', max_iter=1000),\n",
    "          'KNN': KNeighborsClassifier(n_neighbors=5),\n",
    "          'Naive Bayes': BernoulliNB(),\n",
    "         'Decision Tree': DecisionTreeClassifier(),\n",
    "         'Random Forest': RandomForestClassifier(),\n",
    "         'XGBoost': XGBClassifier()}"
   ]
  },
  {
   "cell_type": "code",
   "execution_count": 88,
   "metadata": {},
   "outputs": [
    {
     "name": "stderr",
     "output_type": "stream",
     "text": [
      "/Users/sunnajo/anaconda3/envs/metis/lib/python3.8/site-packages/sklearn/linear_model/_sag.py:329: ConvergenceWarning: The max_iter was reached which means the coef_ did not converge\n",
      "  warnings.warn(\"The max_iter was reached which means \"\n"
     ]
    },
    {
     "name": "stdout",
     "output_type": "stream",
     "text": [
      "Logistic Regression :\n",
      "Accuracy score:  0.918375\n",
      "Precision score:  0.4421338155515371\n",
      "Recall score:  0.9314285714285714\n",
      "F1 score:  0.5996321275291232\n",
      "F-beta score:  0.7626325639426076\n",
      "ROC-AUC score:  0.9763434941869724 \n",
      "\n",
      "KNN :\n",
      "Accuracy score:  0.9395\n",
      "Precision score:  0.5235361653272101\n",
      "Recall score:  0.8685714285714285\n",
      "F1 score:  0.6532951289398281\n",
      "F-beta score:  0.7674183776506227\n",
      "ROC-AUC score:  0.9378339225991399 \n",
      "\n",
      "Naive Bayes :\n",
      "Accuracy score:  0.90925\n",
      "Precision score:  0.4041944709246902\n",
      "Recall score:  0.8076190476190476\n",
      "F1 score:  0.5387547649301143\n",
      "F-beta score:  0.6732295966973643\n",
      "ROC-AUC score:  0.9187915273132663 \n",
      "\n",
      "Decision Tree :\n",
      "Accuracy score:  0.94825\n",
      "Precision score:  0.581021897810219\n",
      "Recall score:  0.758095238095238\n",
      "F1 score:  0.6578512396694214\n",
      "F-beta score:  0.7145421903052063\n",
      "ROC-AUC score:  0.8685864628125497 \n",
      "\n",
      "Random Forest :\n",
      "Accuracy score:  0.9485\n",
      "Precision score:  0.57991513437058\n",
      "Recall score:  0.780952380952381\n",
      "F1 score:  0.6655844155844156\n",
      "F-beta score:  0.7303170644816531\n",
      "ROC-AUC score:  0.956198757763975 \n",
      "\n",
      "XGBoost :\n",
      "Accuracy score:  0.93975\n",
      "Precision score:  0.5245153933865451\n",
      "Recall score:  0.8761904761904762\n",
      "F1 score:  0.6562054208273894\n",
      "F-beta score:  0.7725898555592879\n",
      "ROC-AUC score:  0.9710752667622233 \n",
      "\n"
     ]
    }
   ],
   "source": [
    "# Evaluate scores for models using data imputed with KNNImputer\n",
    "for model_name, model in models.items():\n",
    "    eval(model_name, model, X_knni, y_knni)"
   ]
  },
  {
   "cell_type": "code",
   "execution_count": 76,
   "metadata": {},
   "outputs": [
    {
     "name": "stderr",
     "output_type": "stream",
     "text": [
      "/Users/sunnajo/anaconda3/envs/metis/lib/python3.8/site-packages/sklearn/linear_model/_sag.py:329: ConvergenceWarning: The max_iter was reached which means the coef_ did not converge\n",
      "  warnings.warn(\"The max_iter was reached which means \"\n"
     ]
    },
    {
     "name": "stdout",
     "output_type": "stream",
     "text": [
      "Logistic Regression :\n",
      "Accuracy score:  0.899875\n",
      "Precision score:  0.38995215311004783\n",
      "Recall score:  0.9314285714285714\n",
      "F1 score:  0.5497470489038785\n",
      "F-beta score:  0.7289803220035778\n",
      "ROC-AUC score:  0.969357795827361 \n",
      "\n",
      "KNN :\n",
      "Accuracy score:  0.924375\n",
      "Precision score:  0.45698924731182794\n",
      "Recall score:  0.8095238095238095\n",
      "F1 score:  0.584192439862543\n",
      "F-beta score:  0.7013201320132012\n",
      "ROC-AUC score:  0.9078923395445134 \n",
      "\n",
      "Naive Bayes :\n",
      "Accuracy score:  0.77675\n",
      "Precision score:  0.2007593735168486\n",
      "Recall score:  0.8057142857142857\n",
      "F1 score:  0.32142857142857145\n",
      "F-beta score:  0.5027335393391965\n",
      "ROC-AUC score:  0.8295336200031852 \n",
      "\n",
      "Decision Tree :\n",
      "Accuracy score:  0.93775\n",
      "Precision score:  0.5216\n",
      "Recall score:  0.6209523809523809\n",
      "F1 score:  0.5669565217391304\n",
      "F-beta score:  0.5981651376146788\n",
      "ROC-AUC score:  0.7931438764134415 \n",
      "\n",
      "Random Forest :\n",
      "Accuracy score:  0.9425\n",
      "Precision score:  0.5508607198748043\n",
      "Recall score:  0.6704761904761904\n",
      "F1 score:  0.6048109965635738\n",
      "F-beta score:  0.642570281124498\n",
      "ROC-AUC score:  0.9483380156075808 \n",
      "\n",
      "XGBoost :\n",
      "Accuracy score:  0.92925\n",
      "Precision score:  0.47793326157158234\n",
      "Recall score:  0.8457142857142858\n",
      "F1 score:  0.610729023383769\n",
      "F-beta score:  0.732915153516012\n",
      "ROC-AUC score:  0.9604921802834847 \n",
      "\n"
     ]
    }
   ],
   "source": [
    "# Evaluate scores for models using data imputed with constant\n",
    "for model_name, model in models.items():\n",
    "    eval(model_name, model, X_ci, y_ci)"
   ]
  },
  {
   "cell_type": "code",
   "execution_count": 77,
   "metadata": {},
   "outputs": [
    {
     "name": "stdout",
     "output_type": "stream",
     "text": [
      "Accuracy score:  0.9291\n",
      "Precision score:  0.47865353037766833\n",
      "Recall score:  0.8873668188736682\n",
      "F1 score:  0.6218666666666667\n",
      "Fbeta score (beta=2):  0.7579303172126886\n",
      "ROC AUC score:  0.9682380495999658 \n",
      "\n"
     ]
    }
   ],
   "source": [
    "# Comparing to XGBoost sample run on non-imputed data with oversampling\n",
    "model_scores_os(XGBClassifier(), df2.iloc[:,1:], df2.iloc[:,0])"
   ]
  },
  {
   "cell_type": "code",
   "execution_count": 78,
   "metadata": {},
   "outputs": [
    {
     "name": "stdout",
     "output_type": "stream",
     "text": [
      "Accuracy score:  0.9288\n",
      "Precision score:  0.4772162386081193\n",
      "Recall score:  0.8767123287671232\n",
      "F1 score:  0.6180257510729613\n",
      "Fbeta score (beta=2):  0.7509778357235983\n",
      "ROC AUC score:  0.9669877952564132 \n",
      "\n"
     ]
    }
   ],
   "source": [
    "# Comparing to XGBoost sample run on non-imputed data with built-in weighting\n",
    "model_scores(XGBClassifier(scale_pos_weight=14), df2.iloc[:,1:], df2.iloc[:,0])"
   ]
  },
  {
   "cell_type": "code",
   "execution_count": 79,
   "metadata": {},
   "outputs": [
    {
     "name": "stdout",
     "output_type": "stream",
     "text": [
      "Accuracy score:  0.9128136007208442\n",
      "Precision score:  0.4240967591874709\n",
      "Recall score:  0.9354691597309315\n",
      "F1 score:  0.5836119211892737\n",
      "Fbeta score (beta=2):  0.7537065275302676\n",
      "ROC AUC score:  0.9719762057660932 \n",
      "\n"
     ]
    }
   ],
   "source": [
    "# Comparing to XGBoost run on ALL data with built-in weighting\n",
    "model_scores(XGBClassifier(scale_pos_weight=14), df[feat], df['death'])"
   ]
  },
  {
   "cell_type": "code",
   "execution_count": 81,
   "metadata": {
    "scrolled": true
   },
   "outputs": [
    {
     "name": "stdout",
     "output_type": "stream",
     "text": [
      "Accuracy score:  0.9122402019555131\n",
      "Precision score:  0.4225352112676056\n",
      "Recall score:  0.9371793410101471\n",
      "F1 score:  0.5824623560673162\n",
      "Fbeta score (beta=2):  0.7536029924089624\n",
      "ROC AUC score:  0.9717061614621211 \n",
      "\n"
     ]
    }
   ],
   "source": [
    "# Comparing to XGBoost run on ALL data with oversampling\n",
    "model_scores_os(XGBClassifier(), df[feat], df['death'])"
   ]
  }
 ],
 "metadata": {
  "kernelspec": {
   "display_name": "Python [conda env:metis] *",
   "language": "python",
   "name": "conda-env-metis-py"
  },
  "language_info": {
   "codemirror_mode": {
    "name": "ipython",
    "version": 3
   },
   "file_extension": ".py",
   "mimetype": "text/x-python",
   "name": "python",
   "nbconvert_exporter": "python",
   "pygments_lexer": "ipython3",
   "version": "3.8.5"
  },
  "toc": {
   "base_numbering": 1,
   "nav_menu": {},
   "number_sections": false,
   "sideBar": true,
   "skip_h1_title": false,
   "title_cell": "Table of Contents",
   "title_sidebar": "Contents",
   "toc_cell": false,
   "toc_position": {},
   "toc_section_display": true,
   "toc_window_display": false
  }
 },
 "nbformat": 4,
 "nbformat_minor": 4
}
